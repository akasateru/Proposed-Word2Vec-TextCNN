{
 "cells": [
  {
   "cell_type": "code",
   "execution_count": 1,
   "metadata": {},
   "outputs": [],
   "source": [
    "from sklearn import metrics\n",
    "from tensorflow import keras\n",
    "import gensim.downloader\n",
    "from tqdm import tqdm\n",
    "import numpy as np\n",
    "import string\n",
    "import csv \n",
    "import re"
   ]
  },
  {
   "cell_type": "code",
   "execution_count": 2,
   "metadata": {},
   "outputs": [],
   "source": [
    "np.random.seed(0)\n",
    "\n",
    "import datetime\n",
    "t_delta = datetime.timedelta(hours=9)\n",
    "JST = datetime.timezone(t_delta, 'JST')\n",
    "now = datetime.datetime.now(JST)"
   ]
  },
  {
   "cell_type": "code",
   "execution_count": 3,
   "metadata": {},
   "outputs": [],
   "source": [
    "# parameters\n",
    "SAVED_MODEL = \"../model/Proposed-Word2Vec-TextCNN_\"+str(now.strftime('%Y%m%d%H%M%S'))\n",
    "THRESHOLD = 0.05\n",
    "MAXLEN_GET_PSEUDO = 3000\n",
    "EPOCH = 5\n",
    "BATCH_SIZE = 64\n",
    "MAX_LEN = 128\n",
    "FILTERS = 100\n",
    "FILTER_SIZES = [3,4,5]"
   ]
  },
  {
   "cell_type": "code",
   "execution_count": 4,
   "metadata": {},
   "outputs": [
    {
     "name": "stdout",
     "output_type": "stream",
     "text": [
      "../model/Proposed-Word2Vec-TextCNN_20221127170635\n"
     ]
    }
   ],
   "source": [
    "print(SAVED_MODEL)"
   ]
  },
  {
   "cell_type": "code",
   "execution_count": 5,
   "metadata": {},
   "outputs": [],
   "source": [
    "# 前処理\n",
    "def preprocessing(text):\n",
    "    # 括弧内文章の削除\n",
    "    text = re.sub(r'\\(.*\\)',' ',text)\n",
    "    text = re.sub(r'\\[.*\\]',' ',text)\n",
    "    text = re.sub(r'\\<.*\\>',' ',text)\n",
    "    text = re.sub(r'\\{.*\\}',' ',text)\n",
    "    # 記号文字の削除\n",
    "    text = text.translate(str.maketrans('','',string.punctuation))\n",
    "    # スペースの調整\n",
    "    text = re.sub(r'\\s+',' ',text)\n",
    "    return text"
   ]
  },
  {
   "cell_type": "code",
   "execution_count": 6,
   "metadata": {},
   "outputs": [],
   "source": [
    "word2vec = gensim.downloader.load('word2vec-google-news-300')"
   ]
  },
  {
   "cell_type": "code",
   "execution_count": 7,
   "metadata": {},
   "outputs": [
    {
     "name": "stderr",
     "output_type": "stream",
     "text": [
      "100%|██████████| 10000/10000 [00:00<00:00, 67517.21it/s]\n"
     ]
    }
   ],
   "source": [
    "# dbpedia datasets train\n",
    "with open('../data/dbpedia_csv/train.csv','r',encoding='utf-8') as f:\n",
    "    reader = [r for r in csv.reader(f)]\n",
    "    \n",
    "# example -------------------\n",
    "import random\n",
    "reader = random.sample(reader, 10000)\n",
    "#----------------------------\n",
    "\n",
    "li = list()\n",
    "dbpedia_train_datasets = list()\n",
    "for l, auth, text in tqdm(reader):\n",
    "    li.append(int(l)-1)\n",
    "    text = text.replace(auth,'')\n",
    "    dbpedia_train_datasets.append(preprocessing(text))"
   ]
  },
  {
   "cell_type": "code",
   "execution_count": 8,
   "metadata": {},
   "outputs": [],
   "source": [
    "# dbpedia classes\n",
    "with open(\"../data/dbpedia_csv/classes.txt\", \"r\", encoding=\"utf-8\") as f:\n",
    "  classes = f.read().splitlines()"
   ]
  },
  {
   "cell_type": "code",
   "execution_count": 9,
   "metadata": {},
   "outputs": [
    {
     "name": "stderr",
     "output_type": "stream",
     "text": [
      "100%|██████████| 1000/1000 [00:00<00:00, 68943.31it/s]\n"
     ]
    }
   ],
   "source": [
    "# load test data\n",
    "# dbpedia datasets train\n",
    "with open('../data/dbpedia_csv/test.csv','r',encoding='utf-8') as f:\n",
    "    reader = [r for r in csv.reader(f)]\n",
    "    \n",
    "# example -------------------\n",
    "import random\n",
    "reader = random.sample(reader, 1000)\n",
    "#----------------------------\n",
    "\n",
    "test_texts = list()\n",
    "test_labels = list()\n",
    "for labels, auth, text in tqdm(reader):\n",
    "    text = text.replace(auth,'')\n",
    "    test_texts.append(preprocessing(text))\n",
    "    test_labels.append(int(labels)-1)"
   ]
  },
  {
   "cell_type": "code",
   "execution_count": 27,
   "metadata": {},
   "outputs": [],
   "source": [
    "# tokenizer = keras.preprocessing.text.Tokenizer()\n",
    "# tokenizer.fit_on_texts(dbpedia_train_datasets)\n",
    "# sequences = tokenizer.texts_to_sequences(dbpedia_train_datasets)\n",
    "# x_train = keras.preprocessing.sequence.pad_sequences(sequences, maxlen=MAX_LEN, padding='post')\n",
    "# y_train = np.array(keras.utils.to_categorical(li))\n",
    "\n",
    "# embedding_matrix = np.zeros((max(tokenizer.word_index.values())+1, word2vec.vector_size))\n",
    "# for word, i in tokenizer.word_index.items():\n",
    "#     if word in word2vec:\n",
    "#         embedding_matrix[i] = word2vec[word]"
   ]
  },
  {
   "cell_type": "code",
   "execution_count": 11,
   "metadata": {},
   "outputs": [],
   "source": [
    "tokenizer = keras.preprocessing.text.Tokenizer()\n",
    "tokenizer.fit_on_texts(dbpedia_train_datasets)\n",
    "tokenizer.fit_on_texts(test_texts)\n",
    "embedding_matrix = np.zeros((max(tokenizer.word_index.values())+1, word2vec.vector_size))\n",
    "for word, i in tokenizer.word_index.items():\n",
    "    if word in word2vec:\n",
    "        embedding_matrix[i] = word2vec[word]\n",
    "\n",
    "sequences = tokenizer.texts_to_sequences(dbpedia_train_datasets)\n",
    "x_train = keras.preprocessing.sequence.pad_sequences(sequences, maxlen=MAX_LEN, padding='post')\n",
    "y_train = np.array(keras.utils.to_categorical(li))\n",
    "\n",
    "sequences = tokenizer.texts_to_sequences(test_texts)\n",
    "x_test = keras.preprocessing.sequence.pad_sequences(sequences, maxlen=MAX_LEN, padding='post')\n",
    "y_test = np.array(keras.utils.to_categorical(test_labels))"
   ]
  },
  {
   "cell_type": "code",
   "execution_count": 28,
   "metadata": {},
   "outputs": [],
   "source": [
    "inputs = keras.layers.Input(shape=(MAX_LEN),dtype='float32')\n",
    "embedding = keras.layers.Embedding(input_dim=len(embedding_matrix),output_dim=len(embedding_matrix[0]),weights=[embedding_matrix],trainable=False, mask_zero=True,name='embedding')(inputs)\n",
    "conv1 = keras.layers.Conv1D(filters=FILTERS, kernel_size=FILTER_SIZES[0], kernel_initializer='normal', activation='relu')(embedding)\n",
    "conv2 = keras.layers.Conv1D(filters=FILTERS, kernel_size=FILTER_SIZES[1], kernel_initializer='normal', activation='relu')(embedding)\n",
    "conv3 = keras.layers.Conv1D(filters=FILTERS, kernel_size=FILTER_SIZES[2], kernel_initializer='normal', activation='relu')(embedding)\n",
    "pool1 = keras.layers.MaxPooling1D(pool_size=int(conv1.shape[1]),strides=1)(conv1)\n",
    "pool2 = keras.layers.MaxPooling1D(pool_size=int(conv2.shape[1]),strides=1)(conv2)\n",
    "pool3 = keras.layers.MaxPooling1D(pool_size=int(conv3.shape[1]),strides=1)(conv3)\n",
    "x = keras.layers.concatenate([pool1, pool2, pool3])\n",
    "x = keras.layers.Flatten()(x)\n",
    "x = keras.layers.Dropout(0.5)(x)\n",
    "x = keras.layers.Dense(100,activation='relu')(x)\n",
    "output = keras.layers.Dense(units=14, activation='softmax')(x)\n",
    "model = keras.models.Model(inputs, output)\n",
    "opt = keras.optimizers.Adam(learning_rate=0.0001, beta_1=0.9, beta_2=0.999, epsilon=1e-07, amsgrad=True)\n",
    "model.compile(loss=\"categorical_crossentropy\", optimizer=opt, metrics=[\"accuracy\"])"
   ]
  },
  {
   "cell_type": "code",
   "execution_count": 30,
   "metadata": {},
   "outputs": [
    {
     "name": "stdout",
     "output_type": "stream",
     "text": [
      "Epoch 1/5\n",
      "157/157 [==============================] - 10s 61ms/step - loss: 1.8612 - accuracy: 0.4782 - val_loss: 1.2821 - val_accuracy: 0.8453\n",
      "Epoch 2/5\n",
      "157/157 [==============================] - 9s 58ms/step - loss: 1.2522 - accuracy: 0.6741 - val_loss: 0.7821 - val_accuracy: 0.8881\n",
      "Epoch 3/5\n",
      "157/157 [==============================] - 9s 59ms/step - loss: 0.8678 - accuracy: 0.7766 - val_loss: 0.5326 - val_accuracy: 0.9077\n",
      "Epoch 4/5\n",
      "157/157 [==============================] - 9s 58ms/step - loss: 0.6588 - accuracy: 0.8301 - val_loss: 0.4055 - val_accuracy: 0.9169\n",
      "Epoch 5/5\n",
      "157/157 [==============================] - 10s 61ms/step - loss: 0.5396 - accuracy: 0.8530 - val_loss: 0.3287 - val_accuracy: 0.9284\n"
     ]
    }
   ],
   "source": [
    "# モデルの学習\n",
    "result = model.fit(x=x_train,\n",
    "                   y=y_train,\n",
    "                   epochs=EPOCH,\n",
    "                   batch_size=BATCH_SIZE,\n",
    "                   validation_data=(x_test,y_test))"
   ]
  },
  {
   "cell_type": "code",
   "execution_count": 14,
   "metadata": {},
   "outputs": [
    {
     "name": "stderr",
     "output_type": "stream",
     "text": [
      "WARNING:absl:Found untraced functions such as _jit_compiled_convolution_op, _jit_compiled_convolution_op, _jit_compiled_convolution_op, _update_step_xla while saving (showing 4 of 4). These functions will not be directly callable after loading.\n"
     ]
    },
    {
     "name": "stdout",
     "output_type": "stream",
     "text": [
      "INFO:tensorflow:Assets written to: ../model/Proposed-Word2Vec-TextCNN_20221127170635\\assets\n"
     ]
    },
    {
     "name": "stderr",
     "output_type": "stream",
     "text": [
      "INFO:tensorflow:Assets written to: ../model/Proposed-Word2Vec-TextCNN_20221127170635\\assets\n"
     ]
    }
   ],
   "source": [
    "model.save(SAVED_MODEL)"
   ]
  },
  {
   "cell_type": "markdown",
   "metadata": {},
   "source": [
    "# Test"
   ]
  },
  {
   "cell_type": "code",
   "execution_count": 15,
   "metadata": {},
   "outputs": [],
   "source": [
    "model = keras.models.load_model(SAVED_MODEL)"
   ]
  },
  {
   "cell_type": "code",
   "execution_count": 23,
   "metadata": {},
   "outputs": [],
   "source": [
    "# tokenizer = keras.preprocessing.text.Tokenizer()\n",
    "# tokenizer.fit_on_texts(test_texts)\n",
    "# sequences = tokenizer.texts_to_sequences(test_texts)\n",
    "# x_test = keras.preprocessing.sequence.pad_sequences(sequences, maxlen=MAX_LEN, padding='post')\n",
    "# y_test = np.array(keras.utils.to_categorical(test_labels))\n",
    "\n",
    "# embedding_matrix = np.zeros((max(tokenizer.word_index.values())+1, word2vec.vector_size))\n",
    "# for word, i in tokenizer.word_index.items():\n",
    "#     if word in word2vec:\n",
    "#         embedding_matrix[i] = word2vec[word]"
   ]
  },
  {
   "cell_type": "code",
   "execution_count": 24,
   "metadata": {},
   "outputs": [],
   "source": [
    "# model.embedding = keras.layers.Embedding(input_dim=len(embedding_matrix),output_dim=len(embedding_matrix[0]),weights=[embedding_matrix],trainable=False, mask_zero=True,name='embedding')"
   ]
  },
  {
   "cell_type": "code",
   "execution_count": 25,
   "metadata": {},
   "outputs": [
    {
     "name": "stdout",
     "output_type": "stream",
     "text": [
      "32/32 [==============================] - 0s 11ms/step\n"
     ]
    }
   ],
   "source": [
    "pred = model.predict(x_test)"
   ]
  },
  {
   "cell_type": "code",
   "execution_count": 26,
   "metadata": {},
   "outputs": [
    {
     "name": "stdout",
     "output_type": "stream",
     "text": [
      "              precision    recall  f1-score   support\n",
      "\n",
      "        Com.      0.127     0.206     0.157        68\n",
      "        Edu.      0.065     0.074     0.069        81\n",
      "        Art.      0.089     0.067     0.076        75\n",
      "        Ath.      0.297     0.141     0.191        78\n",
      "        Off.      0.148     0.104     0.122        77\n",
      "        Mea.      0.065     0.042     0.051        72\n",
      "        Bui.      0.070     0.130     0.091        69\n",
      "        Nat.      0.215     0.293     0.248        58\n",
      "        Vil.      0.250     0.054     0.089        74\n",
      "        Ani.      0.033     0.045     0.038        66\n",
      "        Pla.      0.056     0.015     0.023        68\n",
      "        Alb.      0.878     0.890     0.884        73\n",
      "        Fil.      0.722     0.675     0.698        77\n",
      "        Wri.      0.063     0.125     0.084        64\n",
      "\n",
      "    accuracy                          0.206      1000\n",
      "   macro avg      0.220     0.204     0.202      1000\n",
      "weighted avg      0.225     0.206     0.205      1000\n",
      "\n"
     ]
    }
   ],
   "source": [
    "from sklearn import metrics\n",
    "\n",
    "y_test = [np.argmax(i) for i in y_test]\n",
    "y_pred = [np.argmax(i) for i in pred]\n",
    "\n",
    "target_names = [c[:3]+\".\" for c in classes]\n",
    "\n",
    "rep = metrics.classification_report(y_test, y_pred, target_names=target_names, digits=3)\n",
    "print(rep)"
   ]
  }
 ],
 "metadata": {
  "kernelspec": {
   "display_name": "Python 3.10.4 64-bit",
   "language": "python",
   "name": "python3"
  },
  "language_info": {
   "codemirror_mode": {
    "name": "ipython",
    "version": 3
   },
   "file_extension": ".py",
   "mimetype": "text/x-python",
   "name": "python",
   "nbconvert_exporter": "python",
   "pygments_lexer": "ipython3",
   "version": "3.10.4"
  },
  "orig_nbformat": 4,
  "vscode": {
   "interpreter": {
    "hash": "9e32349538976b425bbf8209bec3a52ef38eb988b8b568d4d0fb100f86dbbec2"
   }
  }
 },
 "nbformat": 4,
 "nbformat_minor": 2
}
